{
 "cells": [
  {
   "cell_type": "code",
   "execution_count": 220,
   "metadata": {},
   "outputs": [],
   "source": [
    "import flow\n",
    "import grpc\n",
    "import json\n",
    "import csv"
   ]
  },
  {
   "cell_type": "code",
   "execution_count": 212,
   "metadata": {
    "scrolled": true
   },
   "outputs": [],
   "source": [
    "nodes_list = [{'node':'access-001.mainnet1.nodes.onflow.org:9000', 'start_at': 7601063, 'end_at': 8742958},\n",
    "              {'node':'access-001.mainnet2.nodes.onflow.org:9000', 'start_at': 8742959, 'end_at': 9737132},\n",
    "              {'node':'access-001.mainnet3.nodes.onflow.org:9000', 'start_at': 9737133, 'end_at': 9992019},\n",
    "              {'node':'access-001.mainnet4.nodes.onflow.org:9000', 'start_at': 9992020, 'end_at': 12020336},\n",
    "              {'node':'access.mainnet.nodes.onflow.org:9000', 'start_at': 12020336, 'end_at': 12706374}\n",
    "             ]\n",
    "\n",
    "def get_purchases(node, start, delta):\n",
    "    \n",
    "    channel = grpc.insecure_channel(node)\n",
    "    stub = flow.access.access_pb2_grpc.AccessAPIStub(channel)\n",
    "    response = stub.GetEventsForHeightRange(flow.access.access_pb2.GetEventsForHeightRangeRequest(\n",
    "        type='A.c1e4f4f4c4257510.Market.MomentPurchased',\n",
    "        start_height = start,\n",
    "        end_height = start + delta))\n",
    "\n",
    "    return response"
   ]
  },
  {
   "cell_type": "code",
   "execution_count": null,
   "metadata": {},
   "outputs": [],
   "source": [
    "csv_file = csv.writer(open(\"MomentPurchased.csv\", \"w+\"))\n",
    "\n",
    "csv_file.writerow(['block_height', 'block_timestamp','event_id', 'moment_id', 'sell_price', 'address'])\n",
    "\n",
    "for node in nodes_list:\n",
    "    for Block_height in range(node['start_at'], node['end_at'] - (node['end_at'] % 100), 100):\n",
    "        purch = get_purchases(node['node'], Block_height, 100)\n",
    "        for _, block in enumerate(purch.results):\n",
    "            block_height = block.block_height\n",
    "            block_timestamp = float(str(block.block_timestamp.seconds) + '.' + str(block.block_timestamp.nanos))\n",
    "            for _, event in enumerate(block.events):\n",
    "                try:\n",
    "                    event_transaction_id = event.transaction_id\n",
    "                    json_payload = json.loads(event.payload)\n",
    "\n",
    "                    csv_file.writerow([block_height, block_timestamp, json_payload[\"value\"][\"id\"], \n",
    "                                  int(json_payload[\"value\"][\"fields\"][0][\"value\"][\"value\"]), \n",
    "                                  float(json_payload[\"value\"][\"fields\"][1][\"value\"][\"value\"]), \n",
    "                                  json_payload[\"value\"][\"fields\"][2][\"value\"][\"value\"][\"value\"]])\n",
    "                except:\n",
    "                    pass"
   ]
  },
  {
   "cell_type": "code",
   "execution_count": 136,
   "metadata": {},
   "outputs": [],
   "source": [
    "js = json.loads(purch.results[0].events[1].payload)"
   ]
  },
  {
   "cell_type": "code",
   "execution_count": 164,
   "metadata": {},
   "outputs": [
    {
     "data": {
      "text/plain": [
       "{'type': 'Event',\n",
       " 'value': {'id': 'A.c1e4f4f4c4257510.Market.MomentPurchased',\n",
       "  'fields': [{'name': 'id', 'value': {'type': 'UInt64', 'value': '5102947'}},\n",
       "   {'name': 'price', 'value': {'type': 'UFix64', 'value': '60.00000000'}},\n",
       "   {'name': 'seller',\n",
       "    'value': {'type': 'Optional',\n",
       "     'value': {'type': 'Address', 'value': '0xa67c296b3b9c00c2'}}}]}}"
      ]
     },
     "execution_count": 164,
     "metadata": {},
     "output_type": "execute_result"
    }
   ],
   "source": [
    "js"
   ]
  }
 ],
 "metadata": {
  "kernelspec": {
   "display_name": "Python 3",
   "language": "python",
   "name": "python3"
  },
  "language_info": {
   "codemirror_mode": {
    "name": "ipython",
    "version": 3
   },
   "file_extension": ".py",
   "mimetype": "text/x-python",
   "name": "python",
   "nbconvert_exporter": "python",
   "pygments_lexer": "ipython3",
   "version": "3.8.8"
  }
 },
 "nbformat": 4,
 "nbformat_minor": 4
}
